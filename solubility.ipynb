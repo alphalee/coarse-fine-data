{
 "cells": [
  {
   "cell_type": "code",
   "execution_count": null,
   "metadata": {
    "collapsed": true
   },
   "outputs": [],
   "source": [
    "from rdkit import Chem\n",
    "from rdkit import DataStructs\n",
    "from rdkit.Chem.Fingerprints import FingerprintMols\n",
    "from rdkit.Chem import AllChem\n",
    "import numpy\n",
    "import numpy as np\n",
    "import csv"
   ]
  },
  {
   "cell_type": "code",
   "execution_count": null,
   "metadata": {
    "collapsed": false
   },
   "outputs": [],
   "source": [
    "with open('ESOL.txt','rU') as f:\n",
    "    next(f)\n",
    "    reader = csv.reader(f, dialect=csv.excel_tab,delimiter=\",\")\n",
    "    d = list(reader) "
   ]
  },
  {
   "cell_type": "code",
   "execution_count": null,
   "metadata": {
    "collapsed": false
   },
   "outputs": [],
   "source": [
    "sol = [float(item[1]) for item in d]\n",
    "smi = [item[3] for item in d]\n",
    "ms = [Chem.MolFromSmiles(x) for x in smi]"
   ]
  },
  {
   "cell_type": "code",
   "execution_count": null,
   "metadata": {
    "collapsed": false
   },
   "outputs": [],
   "source": [
    "numpy.savetxt('sol_data',sol)"
   ]
  },
  {
   "cell_type": "code",
   "execution_count": null,
   "metadata": {
    "collapsed": true
   },
   "outputs": [],
   "source": [
    "Morgan3 = [AllChem.GetMorganFingerprintAsBitVect(y,6,nBits=1024).ToBitString() for y in ms] \n",
    "A_Morgan3 =  np.array(map(int, Morgan3[0] ))\n",
    "\n",
    "for ii in xrange(len(ms)):\n",
    "    if ii is not 0:\n",
    "        A_Morgan3 = numpy.vstack((A_Morgan3,np.array(map(int, Morgan3[ii] ))))\n",
    "numpy.savetxt('datMat_Morgan3_solubility_r6_1024bit',A_Morgan3)"
   ]
  },
  {
   "cell_type": "code",
   "execution_count": null,
   "metadata": {
    "collapsed": true
   },
   "outputs": [],
   "source": [
    "from rdkit import Avalon\n",
    "from rdkit.Avalon import pyAvalonTools\n",
    "avalon = [pyAvalonTools.GetAvalonFP(y).ToBitString() for y in ms]\n",
    "A_avalon = np.array(map(int, avalon[0] ))\n",
    "for ii in xrange(len(ms)):\n",
    "    if ii is not 0:\n",
    "        A_avalon = numpy.vstack((A_avalon,np.array(map(int, avalon[ii] ))))\n",
    "numpy.savetxt('datMat_avalon_solubility',A_avalon)"
   ]
  },
  {
   "cell_type": "code",
   "execution_count": null,
   "metadata": {
    "collapsed": true
   },
   "outputs": [],
   "source": [
    "from rdkit.Chem import MACCSkeys \n",
    "MACCS = [MACCSkeys.GenMACCSKeys(y).ToBitString() for y in ms] \n",
    "A_MACCS = np.array(map(int, MACCS[0] ))\n",
    "for ii in xrange(len(ms)):\n",
    "    if ii is not 0:\n",
    "        A_MACCS = numpy.vstack((A_MACCS,np.array(map(int, MACCS[ii] ))))\n",
    "numpy.savetxt('datMat_MACCS_solubility',A_MACCS)"
   ]
  }
 ],
 "metadata": {
  "kernelspec": {
   "display_name": "Python 2",
   "language": "python",
   "name": "python2"
  },
  "language_info": {
   "codemirror_mode": {
    "name": "ipython",
    "version": 2
   },
   "file_extension": ".py",
   "mimetype": "text/x-python",
   "name": "python",
   "nbconvert_exporter": "python",
   "pygments_lexer": "ipython2",
   "version": "2.7.11"
  }
 },
 "nbformat": 4,
 "nbformat_minor": 0
}
